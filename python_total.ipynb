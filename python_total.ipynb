{
 "cells": [
  {
   "metadata": {},
   "cell_type": "markdown",
   "source": [
    "#### Método Format\n",
    "##### Permite agregar un texto a una variable de cadena de caracteres agregando unas {}."
   ],
   "id": "88ee5c457c7f3dac"
  },
  {
   "metadata": {
    "collapsed": true,
    "ExecuteTime": {
     "end_time": "2025-10-19T20:13:18.446788Z",
     "start_time": "2025-10-19T20:13:18.443466Z"
    }
   },
   "cell_type": "code",
   "source": [
    "# Método Format\n",
    "test = (\"prueba desde mi pc {}\")\n",
    "test.format(\"probando format\")"
   ],
   "id": "704e11e270cbb397",
   "outputs": [
    {
     "data": {
      "text/plain": [
       "'prueba desde mi pc probando format'"
      ]
     },
     "execution_count": 9,
     "metadata": {},
     "output_type": "execute_result"
    }
   ],
   "execution_count": 9
  },
  {
   "metadata": {},
   "cell_type": "markdown",
   "source": [
    "#### Método index\n",
    "##### Muestra en que ubiación esta una letra o una palabra o devuelve error si no encuentra nada."
   ],
   "id": "f150b942a79e10f8"
  },
  {
   "metadata": {
    "ExecuteTime": {
     "end_time": "2025-10-19T20:18:02.669413Z",
     "start_time": "2025-10-19T20:18:02.666129Z"
    }
   },
   "cell_type": "code",
   "source": "test.index(\"desde\")",
   "id": "699aae28835ddb78",
   "outputs": [
    {
     "data": {
      "text/plain": [
       "7"
      ]
     },
     "execution_count": 14,
     "metadata": {},
     "output_type": "execute_result"
    }
   ],
   "execution_count": 14
  },
  {
   "metadata": {
    "ExecuteTime": {
     "end_time": "2025-10-19T20:28:56.434661Z",
     "start_time": "2025-10-19T20:28:56.431592Z"
    }
   },
   "cell_type": "code",
   "source": "test",
   "id": "5e6e9f7bdcc310e5",
   "outputs": [
    {
     "data": {
      "text/plain": [
       "'prueba desde mi pc {}'"
      ]
     },
     "execution_count": 16,
     "metadata": {},
     "output_type": "execute_result"
    }
   ],
   "execution_count": 16
  },
  {
   "metadata": {},
   "cell_type": "markdown",
   "source": [
    "Otros métodos:\n",
    "##### .upper() pasar a mayúsculas\n",
    "##### lower() pasara  minusculas\n",
    "##### split() separa en listas, en los () puedo poner un parámetro para que lo tome como criterio de separador.\n",
    "##### join() contrario a split, une.\n",
    "##### find() encontrar similara index, cuando no encuentra devuelve -1\n",
    "##### replace() reemplazar una parte del strig"
   ],
   "id": "f702de8e19e1e3e0"
  },
  {
   "metadata": {
    "ExecuteTime": {
     "end_time": "2025-10-19T20:29:32.418708Z",
     "start_time": "2025-10-19T20:29:32.415957Z"
    }
   },
   "cell_type": "code",
   "source": [
    "# replace()\n",
    "test_2 = test.replace(\"desde\",\"hasta\")\n",
    "print(test_2)"
   ],
   "id": "b278d52f2bef7aae",
   "outputs": [
    {
     "name": "stdout",
     "output_type": "stream",
     "text": [
      "prueba hasta mi pc {}\n"
     ]
    }
   ],
   "execution_count": 19
  },
  {
   "metadata": {},
   "cell_type": "code",
   "outputs": [],
   "execution_count": null,
   "source": "",
   "id": "c0ebc1ad615113ee"
  }
 ],
 "metadata": {
  "kernelspec": {
   "display_name": "Python 3",
   "language": "python",
   "name": "python3"
  },
  "language_info": {
   "codemirror_mode": {
    "name": "ipython",
    "version": 2
   },
   "file_extension": ".py",
   "mimetype": "text/x-python",
   "name": "python",
   "nbconvert_exporter": "python",
   "pygments_lexer": "ipython2",
   "version": "2.7.6"
  }
 },
 "nbformat": 4,
 "nbformat_minor": 5
}
