{
 "cells": [
  {
   "metadata": {},
   "cell_type": "markdown",
   "source": [
    "#### Método Format\n",
    "##### Permite agregar un texto a una variable de cadena de caracteres agregando unas {}."
   ],
   "id": "88ee5c457c7f3dac"
  },
  {
   "metadata": {
    "collapsed": true,
    "ExecuteTime": {
     "end_time": "2025-10-19T20:13:18.446788Z",
     "start_time": "2025-10-19T20:13:18.443466Z"
    }
   },
   "cell_type": "code",
   "source": [
    "# Método Format\n",
    "test = (\"prueba desde mi pc {}\")\n",
    "test.format(\"probando format\")"
   ],
   "id": "704e11e270cbb397",
   "outputs": [
    {
     "data": {
      "text/plain": [
       "'prueba desde mi pc probando format'"
      ]
     },
     "execution_count": 9,
     "metadata": {},
     "output_type": "execute_result"
    }
   ],
   "execution_count": 9
  },
  {
   "metadata": {},
   "cell_type": "markdown",
   "source": [
    "#### Método index\n",
    "##### Muestra en que ubiación esta una letra o una palabra o devuelve error si no encuentra nada."
   ],
   "id": "f150b942a79e10f8"
  },
  {
   "metadata": {
    "ExecuteTime": {
     "end_time": "2025-10-19T20:17:10.997431Z",
     "start_time": "2025-10-19T20:17:10.994097Z"
    }
   },
   "cell_type": "code",
   "source": "test.index(\"desde\")",
   "id": "699aae28835ddb78",
   "outputs": [
    {
     "data": {
      "text/plain": [
       "7"
      ]
     },
     "execution_count": 13,
     "metadata": {},
     "output_type": "execute_result"
    }
   ],
   "execution_count": 13
  },
  {
   "metadata": {},
   "cell_type": "code",
   "outputs": [],
   "execution_count": null,
   "source": "",
   "id": "5e6e9f7bdcc310e5"
  }
 ],
 "metadata": {
  "kernelspec": {
   "display_name": "Python 3",
   "language": "python",
   "name": "python3"
  },
  "language_info": {
   "codemirror_mode": {
    "name": "ipython",
    "version": 2
   },
   "file_extension": ".py",
   "mimetype": "text/x-python",
   "name": "python",
   "nbconvert_exporter": "python",
   "pygments_lexer": "ipython2",
   "version": "2.7.6"
  }
 },
 "nbformat": 4,
 "nbformat_minor": 5
}
