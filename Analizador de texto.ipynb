{
 "cells": [
  {
   "metadata": {},
   "cell_type": "raw",
   "source": "# Ejercicio dia 3",
   "id": "3faf4f1ef1c0d026"
  },
  {
   "metadata": {
    "ExecuteTime": {
     "end_time": "2025-10-19T20:54:10.637033Z",
     "start_time": "2025-10-19T20:53:58.112770Z"
    }
   },
   "cell_type": "code",
   "source": [
    "# Pedir al usuario ingresar un texto, lo que sea\n",
    "texto = input(\"Digite un texto: \").lower()\n",
    "# Pedir al usuarui ingresar 3 letras a su eleccion\n",
    "letra_1 = input(\"Digite una letra: \")\n",
    "letra_2 = input(\"Digite otra letra: \")\n",
    "letra_3 = input(\"Digite una tercera letra: \")\n",
    "\n",
    "# Devolver al usuario cuantas palabras hay en total\n",
    "palabras = texto.split()\n",
    "print(f\"En el texto hay en total {len(palabras)} palabras\")\n",
    "#  Cuántas veces aparece cada letra.\n",
    "lista_1 = []\n",
    "lista_2 = []\n",
    "lista_3 = []\n",
    "for letra in texto:\n",
    "    if letra == letra_1:\n",
    "        lista_1.append(letra)\n",
    "    elif letra == letra_2:\n",
    "        lista_2.append(letra)\n",
    "    elif letra == letra_3:\n",
    "        lista_3.append(letra)\n",
    "# cuantas letras hay en total\n",
    "print(f\"En total hay {len(texto)} letras en el texto\")\n",
    "# imprimir primera y última letra\n",
    "print(f\"La primera letra es la {texto[0]} \")\n",
    "print(f\"La última letra es la {texto[-1]} \")\n",
    "# mostrar el texto invertido\n",
    "print(texto[::-1])\n",
    "# ¿Aparece python dentro del texto?\n",
    "python = texto.find(\"python\")\n",
    "if python != -1:\n",
    "    print(f\"La palabra python si aparece en el texto\")\n",
    "else:\n",
    "    print(\"La palabra no está en el texto\")"
   ],
   "id": "1d0b6c8d4e783261",
   "outputs": [
    {
     "name": "stdout",
     "output_type": "stream",
     "text": [
      "En el texto hay en total 5 palabras\n",
      "En total hay 23 letras en el texto\n",
      "La primera letra es la h \n",
      "La última letra es la a \n",
      "abeurp anu se otse aloh\n",
      "La palabra no está en el texto\n"
     ]
    }
   ],
   "execution_count": 20
  },
  {
   "metadata": {},
   "cell_type": "code",
   "outputs": [],
   "execution_count": null,
   "source": "",
   "id": "9eba5e7b61f9de78"
  }
 ],
 "metadata": {
  "kernelspec": {
   "display_name": "Python 3",
   "language": "python",
   "name": "python3"
  },
  "language_info": {
   "codemirror_mode": {
    "name": "ipython",
    "version": 2
   },
   "file_extension": ".py",
   "mimetype": "text/x-python",
   "name": "python",
   "nbconvert_exporter": "python",
   "pygments_lexer": "ipython2",
   "version": "2.7.6"
  }
 },
 "nbformat": 4,
 "nbformat_minor": 5
}
